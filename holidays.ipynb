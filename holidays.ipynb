{
 "cells": [
  {
   "cell_type": "code",
   "execution_count": 15,
   "metadata": {},
   "outputs": [
    {
     "name": "stdout",
     "output_type": "stream",
     "text": [
      "Empty DataFrame\n",
      "Columns: [date, name]\n",
      "Index: []\n"
     ]
    }
   ],
   "source": [
    "import holidays\n",
    "from datetime import date\n",
    "import holidays\n",
    "import pandas as pd\n",
    "\n",
    "ny_holidays = holidays.country_holidays('US', subdiv=\"NY\")\n",
    "\n",
    "ny_holidays_list = []\n",
    "\n",
    "for holiday in ny_holidays:\n",
    "  ny_holidays_list.get({\n",
    "    \"date\": holiday.date(),\n",
    "    \"name\": holiday.name\n",
    "  })\n",
    "\n",
    "ny_holidays_df = pd.DataFrame(ny_holidays_list, columns=[\"date\", \"name\"])\n",
    "\n",
    "print(ny_holidays_df)\n",
    "\n"
   ]
  },
  {
   "cell_type": "code",
   "execution_count": 29,
   "metadata": {},
   "outputs": [
    {
     "name": "stdout",
     "output_type": "stream",
     "text": [
      "2018-01-15: Martin Luther King Jr. Day Monday\n",
      "2018-02-19: Washington's Birthday Monday\n",
      "2018-10-08: Columbus Day Monday\n",
      "2018-01-01: New Year's Day Monday\n",
      "2018-05-28: Memorial Day Monday\n",
      "2018-07-04: Independence Day Wednesday\n",
      "2018-09-03: Labor Day Monday\n",
      "2018-11-11: Veterans Day Sunday\n",
      "2018-11-12: Veterans Day (Observed) Monday\n",
      "2018-11-22: Thanksgiving Thursday\n",
      "2018-12-25: Christmas Day Tuesday\n",
      "2019-01-21: Martin Luther King Jr. Day Monday\n",
      "2019-02-18: Washington's Birthday Monday\n",
      "2019-10-14: Columbus Day Monday\n",
      "2019-01-01: New Year's Day Tuesday\n",
      "2019-05-27: Memorial Day Monday\n",
      "2019-07-04: Independence Day Thursday\n",
      "2019-09-02: Labor Day Monday\n",
      "2019-11-11: Veterans Day Monday\n",
      "2019-11-28: Thanksgiving Thursday\n",
      "2019-12-25: Christmas Day Wednesday\n",
      "2020-01-20: Martin Luther King Jr. Day Monday\n",
      "2020-02-17: Washington's Birthday Monday\n",
      "2020-10-12: Columbus Day Monday\n",
      "2020-01-01: New Year's Day Wednesday\n",
      "2020-05-25: Memorial Day Monday\n",
      "2020-07-04: Independence Day Saturday\n",
      "2020-07-03: Independence Day (Observed) Friday\n",
      "2020-09-07: Labor Day Monday\n",
      "2020-11-11: Veterans Day Wednesday\n",
      "2020-11-26: Thanksgiving Thursday\n",
      "2020-12-25: Christmas Day Friday\n",
      "2021-01-18: Martin Luther King Jr. Day Monday\n",
      "2021-02-15: Washington's Birthday Monday\n",
      "2021-10-11: Columbus Day Monday\n",
      "2021-01-01: New Year's Day Friday\n",
      "2021-12-31: New Year's Day (Observed) Friday\n",
      "2021-05-31: Memorial Day Monday\n",
      "2021-06-19: Juneteenth National Independence Day Saturday\n",
      "2021-06-18: Juneteenth National Independence Day (Observed) Friday\n",
      "2021-07-04: Independence Day Sunday\n",
      "2021-07-05: Independence Day (Observed) Monday\n",
      "2021-09-06: Labor Day Monday\n",
      "2021-11-11: Veterans Day Thursday\n",
      "2021-11-25: Thanksgiving Thursday\n",
      "2021-12-25: Christmas Day Saturday\n",
      "2021-12-24: Christmas Day (Observed) Friday\n",
      "2022-01-17: Martin Luther King Jr. Day Monday\n",
      "2022-02-21: Washington's Birthday Monday\n",
      "2022-10-10: Columbus Day Monday\n",
      "2022-01-01: New Year's Day Saturday\n",
      "2022-05-30: Memorial Day Monday\n",
      "2022-06-19: Juneteenth National Independence Day Sunday\n",
      "2022-06-20: Juneteenth National Independence Day (Observed) Monday\n",
      "2022-07-04: Independence Day Monday\n",
      "2022-09-05: Labor Day Monday\n",
      "2022-11-11: Veterans Day Friday\n",
      "2022-11-24: Thanksgiving Thursday\n",
      "2022-12-25: Christmas Day Sunday\n",
      "2022-12-26: Christmas Day (Observed) Monday\n"
     ]
    }
   ],
   "source": [
    "from datetime import date\n",
    "import holidays\n",
    "\n",
    "# Select country\n",
    "us_holidays = holidays.country_holidays('NYSE')\n",
    "\n",
    "\t# Print all the holidays in UnitedKingdom in year 2018\n",
    "for year in range(2018, 2023):\n",
    "\tfor date, name in holidays.UnitedStates(years = year).items():\n",
    "\t\tformatted_date = date.strftime(\"%Y-%m-%d\")\n",
    "\t\tday_of_week = date.strftime(\"%A\")\n",
    "\t\tprint(f\"{formatted_date}: {name} {day_of_week}\")"
   ]
  },
  {
   "cell_type": "code",
   "execution_count": 30,
   "metadata": {},
   "outputs": [],
   "source": [
    "import psycopg2\n",
    "from datetime import date\n",
    "import holidays\n",
    "from postgres_config import POSTGRES_DB, POSTGRES_USER, POSTGRES_HOST, POSTGRES_PASSWORD, POSTGRES_PORT\n",
    "\n",
    "# Create a connection to your PostgreSQL database\n",
    "conn = psycopg2.connect(\n",
    "    dbname=POSTGRES_DB,\n",
    "    user=POSTGRES_USER,\n",
    "    password=POSTGRES_PASSWORD,\n",
    "    host=POSTGRES_HOST,\n",
    "    port=POSTGRES_PORT\n",
    ")\n",
    "\n",
    "# Create a cursor object to interact with the database\n",
    "cur = conn.cursor()\n",
    "\n",
    "# Select country\n",
    "us_holidays = holidays.country_holidays('NYSE')\n",
    "\n",
    "# Insert the data into the table\n",
    "for year in range(2018, 2023):\n",
    "    for date, name in holidays.UnitedStates(years=year).items():\n",
    "        formatted_date = date.strftime(\"%Y-%m-%d\")\n",
    "        day_of_week = date.strftime(\"%A\")\n",
    "        # Insert the data into the table\n",
    "        cur.execute(\n",
    "            \"INSERT INTO sch_nypd_calls_tables.tb_holidays (holiday_date, holiday_nm, holiday_day_of_week) VALUES (%s, %s, %s)\",\n",
    "            (formatted_date, name, day_of_week)\n",
    "        )\n",
    "\n",
    "# Commit the changes and close the cursor and connection\n",
    "conn.commit()\n",
    "cur.close()\n",
    "conn.close()\n"
   ]
  },
  {
   "cell_type": "code",
   "execution_count": null,
   "metadata": {},
   "outputs": [],
   "source": [
    "from datetime import datetime\n",
    "for date in range('2018-01-01', '2022-12-31'):\n",
    "    for date, day_of_week in \n",
    "# get current datetime\n",
    "dt = datetime.now()\n",
    "print('Datetime is:', dt)\n",
    "\n",
    "# get weekday name\n",
    "print('day Name:', dt.strftime('%A'))"
   ]
  },
  {
   "cell_type": "code",
   "execution_count": 31,
   "metadata": {},
   "outputs": [
    {
     "ename": "ValueError",
     "evalue": "day is out of range for month",
     "output_type": "error",
     "traceback": [
      "\u001b[1;31m---------------------------------------------------------------------------\u001b[0m",
      "\u001b[1;31mValueError\u001b[0m                                Traceback (most recent call last)",
      "Cell \u001b[1;32mIn[31], line 8\u001b[0m\n\u001b[0;32m      6\u001b[0m   \u001b[39mfor\u001b[39;00m month \u001b[39min\u001b[39;00m \u001b[39mrange\u001b[39m(\u001b[39m1\u001b[39m, \u001b[39m13\u001b[39m):\n\u001b[0;32m      7\u001b[0m     \u001b[39mfor\u001b[39;00m day \u001b[39min\u001b[39;00m \u001b[39mrange\u001b[39m(\u001b[39m1\u001b[39m, \u001b[39m32\u001b[39m):\n\u001b[1;32m----> 8\u001b[0m       date \u001b[39m=\u001b[39m datetime\u001b[39m.\u001b[39;49mdate(year, month, day)\n\u001b[0;32m      9\u001b[0m       dates\u001b[39m.\u001b[39mappend(date)\n\u001b[0;32m     11\u001b[0m \u001b[39m# Create a list to store the day of the week for each date\u001b[39;00m\n",
      "\u001b[1;31mValueError\u001b[0m: day is out of range for month"
     ]
    }
   ],
   "source": [
    "import datetime\n",
    "import pandas as pd\n",
    "# Create a list of dates between 2018-01-01 and 2022-12-31\n",
    "dates = []\n",
    "for year in range(2018, 2023):\n",
    "  for month in range(1, 13):\n",
    "    for day in range(1, 32):\n",
    "      date = datetime.date(year, month, day)\n",
    "      dates.append(date)\n",
    "\n",
    "# Create a list to store the day of the week for each date\n",
    "day_of_weeks = []\n",
    "for date in dates:\n",
    "  day_of_week = date.weekday()\n",
    "  day_of_weeks.append(day_of_week)\n",
    "\n",
    "# Create a Pandas DataFrame to store the dates and day of weeks\n",
    "df = pd.DataFrame({'Date': dates, 'Day of Week': day_of_weeks})\n",
    "\n",
    "# Print the DataFrame\n",
    "print(df)\n"
   ]
  }
 ],
 "metadata": {
  "kernelspec": {
   "display_name": "calls_for_service_nypd_venv",
   "language": "python",
   "name": "python3"
  },
  "language_info": {
   "codemirror_mode": {
    "name": "ipython",
    "version": 3
   },
   "file_extension": ".py",
   "mimetype": "text/x-python",
   "name": "python",
   "nbconvert_exporter": "python",
   "pygments_lexer": "ipython3",
   "version": "3.11.1"
  },
  "orig_nbformat": 4
 },
 "nbformat": 4,
 "nbformat_minor": 2
}
