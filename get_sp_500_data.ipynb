{
 "cells": [
  {
   "cell_type": "code",
   "execution_count": 1,
   "metadata": {},
   "outputs": [
    {
     "name": "stdout",
     "output_type": "stream",
     "text": [
      "[*********************100%%**********************]  1 of 1 completed\n"
     ]
    }
   ],
   "source": [
    "import yfinance as yf\n",
    "sp500_data = yf.download('^GSPC', start='2018-01-01', end='2022-12-31')\n"
   ]
  },
  {
   "cell_type": "code",
   "execution_count": 2,
   "metadata": {},
   "outputs": [
    {
     "name": "stdout",
     "output_type": "stream",
     "text": [
      "                   Open         High          Low        Close    Adj Close  \\\n",
      "Date                                                                          \n",
      "2018-01-02  2683.729980  2695.889893  2682.360107  2695.810059  2695.810059   \n",
      "2018-01-03  2697.850098  2714.370117  2697.770020  2713.060059  2713.060059   \n",
      "2018-01-04  2719.310059  2729.290039  2719.070068  2723.989990  2723.989990   \n",
      "2018-01-05  2731.330078  2743.449951  2727.919922  2743.149902  2743.149902   \n",
      "2018-01-08  2742.669922  2748.510010  2737.600098  2747.709961  2747.709961   \n",
      "\n",
      "                Volume  \n",
      "Date                    \n",
      "2018-01-02  3397430000  \n",
      "2018-01-03  3544030000  \n",
      "2018-01-04  3697340000  \n",
      "2018-01-05  3239280000  \n",
      "2018-01-08  3246160000  \n"
     ]
    }
   ],
   "source": [
    "print(sp500_data.head())"
   ]
  },
  {
   "cell_type": "code",
   "execution_count": 12,
   "metadata": {},
   "outputs": [],
   "source": [
    "import psycopg2\n",
    "from postgres_config import POSTGRES_DB, POSTGRES_HOST, POSTGRES_PASSWORD, POSTGRES_PORT, POSTGRES_USER\n",
    "conn = psycopg2.connect(\n",
    "    host=POSTGRES_HOST,\n",
    "    port=POSTGRES_PORT,\n",
    "    user=POSTGRES_USER,\n",
    "    password=POSTGRES_PASSWORD,\n",
    "    database=POSTGRES_DB \n",
    ")"
   ]
  },
  {
   "cell_type": "code",
   "execution_count": 13,
   "metadata": {},
   "outputs": [],
   "source": [
    "cur = conn.cursor()\n",
    "cur.execute(\"\"\"\n",
    "    CREATE TABLE sch_nypd_calls_tables.tb_sp_500 (\n",
    "        Date DATE,\n",
    "        Open NUMERIC,\n",
    "        High NUMERIC,\n",
    "        Low NUMERIC,\n",
    "        Close NUMERIC,\n",
    "        Adj_Close NUMERIC,\n",
    "        Volume BIGINT\n",
    "    )\n",
    "\"\"\")\n",
    "conn.commit()\n"
   ]
  },
  {
   "cell_type": "code",
   "execution_count": 14,
   "metadata": {},
   "outputs": [],
   "source": [
    "# Reset the index so that 'Date' becomes a regular column\n",
    "sp500_data_reset = sp500_data.reset_index()\n",
    "\n",
    "# Now iterate over the DataFrame\n",
    "for index, row in sp500_data_reset.iterrows():\n",
    "    cur.execute(\n",
    "        \"INSERT INTO sch_nypd_calls_tables.tb_sp_500 VALUES (%s, %s, %s, %s, %s, %s, %s)\",\n",
    "        (row['Date'], row['Open'], row['High'], row['Low'], row['Close'], row['Adj Close'], row['Volume'])\n",
    "    )\n",
    "conn.commit()\n"
   ]
  }
 ],
 "metadata": {
  "kernelspec": {
   "display_name": "calls_for_service_nypd_venv",
   "language": "python",
   "name": "python3"
  },
  "language_info": {
   "codemirror_mode": {
    "name": "ipython",
    "version": 3
   },
   "file_extension": ".py",
   "mimetype": "text/x-python",
   "name": "python",
   "nbconvert_exporter": "python",
   "pygments_lexer": "ipython3",
   "version": "3.11.1"
  }
 },
 "nbformat": 4,
 "nbformat_minor": 2
}
